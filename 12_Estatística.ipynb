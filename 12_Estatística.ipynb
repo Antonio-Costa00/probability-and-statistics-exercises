{
 "cells": [
  {
   "cell_type": "markdown",
   "metadata": {},
   "source": [
    "# <center><span style=\"color:red\">Exercícios de Probabilidade e Estatística</span><br/></center>\n",
    "# <center><span style=\"color:red\">12 – Estatística</span></center>"
   ]
  },
  {
   "cell_type": "markdown",
   "metadata": {},
   "source": [
    "# 1 – Um hospital e maternidade possui 3200 funcionários. O departamento de recursos humanos fez uma pesquisa de clima organizacional com 620 funcionários selecionados nos diversos setores do hospital e um dos tópicos abordados foi o grau de satisfação com os benefícios oferecidos pela empresa. A análise dos dados mostrou que 55% dos funcionários estão satisfeitos com os benefícios oferecidos. De acordo com as informações contidas no enunciado, vamos identificar:"
   ]
  },
  {
   "cell_type": "markdown",
   "metadata": {},
   "source": [
    "## a) A população em estudo. "
   ]
  },
  {
   "cell_type": "markdown",
   "metadata": {},
   "source": [
    "### A População em estudo é igual a 3200 funcionários do hospital e maternidade."
   ]
  },
  {
   "cell_type": "markdown",
   "metadata": {},
   "source": [
    "## b) A variável em estudo. "
   ]
  },
  {
   "cell_type": "markdown",
   "metadata": {},
   "source": [
    "###  Variável em estudo na questão: nível de satisfação com os benefícios oferecidos."
   ]
  },
  {
   "cell_type": "markdown",
   "metadata": {},
   "source": [
    "## c) O tamanho da amostra."
   ]
  },
  {
   "cell_type": "markdown",
   "metadata": {},
   "source": [
    "### Tamanho da amostra na questão: 620 funcionários. "
   ]
  },
  {
   "cell_type": "markdown",
   "metadata": {},
   "source": [
    "## d) A informação numérica 55 % é um parâmetro ou uma estatística? "
   ]
  },
  {
   "cell_type": "markdown",
   "metadata": {},
   "source": [
    "### A informação numérica 55% se trata de uma estatística, pois esta informação foi obtida através de dados amostrais."
   ]
  },
  {
   "cell_type": "markdown",
   "metadata": {},
   "source": [
    "# 2 – Vamos classificar as seguintes variáveis: "
   ]
  },
  {
   "cell_type": "markdown",
   "metadata": {},
   "source": [
    "## a) Número de peças defeituosas produzidas em uma linha de montagem. "
   ]
  },
  {
   "cell_type": "markdown",
   "metadata": {},
   "source": [
    "### Variável quantitativa discreta, pois as possíveis respostas são 0, 1, 2, 3, etc. (as respostas assumem somente valores inteiros). "
   ]
  },
  {
   "cell_type": "markdown",
   "metadata": {},
   "source": [
    "## b) Peso de pacientes. "
   ]
  },
  {
   "cell_type": "markdown",
   "metadata": {},
   "source": [
    "### Variável quantitativa contínua, pois as possíveis respostas são 58,7; 89,8; etc. (as respostas podem assumir valores decimais)."
   ]
  },
  {
   "cell_type": "markdown",
   "metadata": {},
   "source": [
    "## c) Fumante. "
   ]
  },
  {
   "cell_type": "markdown",
   "metadata": {},
   "source": [
    "### Variável qualitativa nominal, pois as possíveis respostas são sim ou não. (as possíveis respostas são categóricas). "
   ]
  },
  {
   "cell_type": "markdown",
   "metadata": {},
   "source": [
    "## d) Tipo sanguíneo."
   ]
  },
  {
   "cell_type": "markdown",
   "metadata": {},
   "source": [
    "### Variável qualitativa nominal, pois as possíveis respostas são A, AB, B ou O (as possíveis respostas são categóricas). "
   ]
  },
  {
   "cell_type": "markdown",
   "metadata": {},
   "source": [
    "## e) Grau de satisfação do consumidor com determinado produto. "
   ]
  },
  {
   "cell_type": "markdown",
   "metadata": {},
   "source": [
    "### Variável qualitativa ordinal, pois as possíveis respostas são nada satisfeito, pouco satisfeito, satisfeito, muito satisfeito (as possíveis respostas são categóricas e possuem uma ordenação natural do menor grau de satisfação para o maior)."
   ]
  }
 ],
 "metadata": {
  "interpreter": {
   "hash": "e7370f93d1d0cde622a1f8e1c04877d8463912d04d973331ad4851f04de6915a"
  },
  "kernelspec": {
   "display_name": "Python 3.8.10 64-bit",
   "name": "python3"
  },
  "language_info": {
   "name": "python",
   "version": "3.8.10"
  },
  "metadata": {
   "interpreter": {
    "hash": "13432044932c1a20a6e449791fc9308ae5e6a49b8fc502f69107d2ec202b76d4"
   }
  },
  "orig_nbformat": 2
 },
 "nbformat": 4,
 "nbformat_minor": 2
}
