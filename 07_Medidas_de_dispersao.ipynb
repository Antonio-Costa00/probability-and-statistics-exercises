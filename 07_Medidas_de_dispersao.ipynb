{
 "cells": [
  {
   "cell_type": "code",
   "execution_count": 5,
   "metadata": {},
   "outputs": [
    {
     "ename": "ValueError",
     "evalue": "invalid literal for int() with base 10: ''",
     "output_type": "error",
     "traceback": [
      "\u001b[1;31m---------------------------------------------------------------------------\u001b[0m",
      "\u001b[1;31mValueError\u001b[0m                                Traceback (most recent call last)",
      "\u001b[1;32m<ipython-input-5-73b94bd19955>\u001b[0m in \u001b[0;36m<module>\u001b[1;34m\u001b[0m\n\u001b[0;32m      1\u001b[0m \u001b[1;31m#Covariância\u001b[0m\u001b[1;33m\u001b[0m\u001b[1;33m\u001b[0m\u001b[1;33m\u001b[0m\u001b[0m\n\u001b[0;32m      2\u001b[0m  \u001b[1;31m#Índice referente ao espaço amostral associadas as variáveis X e Y.\u001b[0m\u001b[1;33m\u001b[0m\u001b[1;33m\u001b[0m\u001b[1;33m\u001b[0m\u001b[0m\n\u001b[1;32m----> 3\u001b[1;33m \u001b[0mn\u001b[0m\u001b[1;33m=\u001b[0m\u001b[0mint\u001b[0m\u001b[1;33m(\u001b[0m\u001b[0minput\u001b[0m\u001b[1;33m(\u001b[0m\u001b[1;34m\"Insira o número total de amostras\"\u001b[0m\u001b[1;33m)\u001b[0m\u001b[1;33m)\u001b[0m\u001b[1;33m\u001b[0m\u001b[1;33m\u001b[0m\u001b[0m\n\u001b[0m\u001b[0;32m      4\u001b[0m \u001b[1;31m#Contador para percorrer os índices\u001b[0m\u001b[1;33m\u001b[0m\u001b[1;33m\u001b[0m\u001b[1;33m\u001b[0m\u001b[0m\n\u001b[0;32m      5\u001b[0m \u001b[0mi\u001b[0m\u001b[1;33m=\u001b[0m\u001b[1;36m1\u001b[0m    \u001b[1;31m#Amostras X e Amostras Y\u001b[0m\u001b[1;33m\u001b[0m\u001b[1;33m\u001b[0m\u001b[0m\n",
      "\u001b[1;31mValueError\u001b[0m: invalid literal for int() with base 10: ''"
     ]
    }
   ],
   "source": [
    "#Covariância\n",
    " #Índice referente ao espaço amostral associadas as variáveis X e Y.\n",
    "n=int(input(\"Insira o número total de amostras\"))    \n",
    "#Contador para percorrer os índices\n",
    "i=1    #Amostras X e Amostras Y\n",
    "Amostrax=[]\n",
    "Amostray=[]  \n",
    "Amostraxy=[]\n",
    "#Tamanho total da lista de cada variável\n",
    "for i in range(n):\n",
    "    #Adiciona o valor da amostra X dentro da lista de amostras\n",
    "    Amostrax.append(int(input(\"Insira o valor das amostras associadas a X\")))\n",
    "#Escreve a lista de amostras X na tela para o usuário\n",
    "print(\"Estas são as amostras da variável X:\", Amostrax)\n",
    "#Soma das variáveis para gerar as médias de X e Y\n",
    "Xi = 0\n",
    "Nx = len(Amostrax)   \n",
    "j=1\n",
    "for j in range(n):        \n",
    "    #Adiciona o valor da amostra X dentro da lista de amostras\n",
    "    Amostray.append(int(input(\"Insira o valor das amostras associadas a Y\")))\n",
    "#Escreve a lista de amostras X na tela para o usuário\n",
    "print(Amostray)\n",
    "Yi = 0\n",
    "Ny = len(Amostray)\n",
    "#Preenchendo as listas de amostras\n",
    "for amostraix in Amostrax:\n",
    "    Xi +=amostraix\n",
    "for amostraiy in Amostray:\n",
    "    Yi +=amostraiy\n",
    "Médiax=Xi/Nx\n",
    "Médiay=Yi/Ny\n",
    "for k in range(n):\n",
    "    Amostraxy.append(Amostrax[k]*Amostray[k])\n",
    "\n",
    "Nxy=len(Amostraxy)\n",
    "XiYi=0\n",
    "for amostraixy in Amostraxy:\n",
    "    XiYi +=amostraixy\n",
    "\n",
    "Médiaxy=XiYi/Nxy\n",
    "Covariância=Médiaxy-(Médiax * Médiay)\n",
    "\n",
    "print (\"Esse é o valor da soma das amostras X\", Xi)\n",
    "print (\"Esse é o valor da soma das amostras Y\", Yi)\n",
    "print (\"Este é o produto das amostras X e Y:\", Amostraxy)\n",
    "print (\"Este é a quantidade de amostras X que você possui\", Nx)\n",
    "print (\"Este é a quantidade de amostras Y que você possui\", Ny)\n",
    "print (\"Esta é a média da variável X\", Médiax)\n",
    "print (\"Esta é a média da variável Y\", Médiay)\n",
    "print (\"Esta é a média do produto X com Y:\", Médiaxy)\n",
    "print (\"Esta é a covariância:\", Covariância)"
   ]
  }
 ],
 "metadata": {
  "kernelspec": {
   "display_name": "Python 3.9.5 64-bit",
   "name": "python395jvsc74a57bd013432044932c1a20a6e449791fc9308ae5e6a49b8fc502f69107d2ec202b76d4"
  },
  "language_info": {
   "codemirror_mode": {
    "name": "ipython",
    "version": 3
   },
   "file_extension": ".py",
   "mimetype": "text/x-python",
   "name": "python",
   "nbconvert_exporter": "python",
   "pygments_lexer": "ipython3",
   "version": "3.9.5"
  },
  "metadata": {
   "interpreter": {
    "hash": "13432044932c1a20a6e449791fc9308ae5e6a49b8fc502f69107d2ec202b76d4"
   }
  },
  "orig_nbformat": 2
 },
 "nbformat": 4,
 "nbformat_minor": 2
}
