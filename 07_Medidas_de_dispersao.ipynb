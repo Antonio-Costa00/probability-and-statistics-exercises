{
 "cells": [
  {
   "cell_type": "code",
   "execution_count": 5,
   "metadata": {},
   "outputs": [
    {
     "ename": "ValueError",
     "evalue": "invalid literal for int() with base 10: ''",
     "output_type": "error",
     "traceback": [
      "\u001b[1;31m---------------------------------------------------------------------------\u001b[0m",
      "\u001b[1;31mValueError\u001b[0m                                Traceback (most recent call last)",
      "\u001b[1;32m<ipython-input-5-73b94bd19955>\u001b[0m in \u001b[0;36m<module>\u001b[1;34m\u001b[0m\n\u001b[0;32m      1\u001b[0m \u001b[1;31m#Covariância\u001b[0m\u001b[1;33m\u001b[0m\u001b[1;33m\u001b[0m\u001b[1;33m\u001b[0m\u001b[0m\n\u001b[0;32m      2\u001b[0m  \u001b[1;31m#Índice referente ao espaço amostral associadas as variáveis X e Y.\u001b[0m\u001b[1;33m\u001b[0m\u001b[1;33m\u001b[0m\u001b[1;33m\u001b[0m\u001b[0m\n\u001b[1;32m----> 3\u001b[1;33m \u001b[0mn\u001b[0m\u001b[1;33m=\u001b[0m\u001b[0mint\u001b[0m\u001b[1;33m(\u001b[0m\u001b[0minput\u001b[0m\u001b[1;33m(\u001b[0m\u001b[1;34m\"Insira o número total de amostras\"\u001b[0m\u001b[1;33m)\u001b[0m\u001b[1;33m)\u001b[0m\u001b[1;33m\u001b[0m\u001b[1;33m\u001b[0m\u001b[0m\n\u001b[0m\u001b[0;32m      4\u001b[0m \u001b[1;31m#Contador para percorrer os índices\u001b[0m\u001b[1;33m\u001b[0m\u001b[1;33m\u001b[0m\u001b[1;33m\u001b[0m\u001b[0m\n\u001b[0;32m      5\u001b[0m \u001b[0mi\u001b[0m\u001b[1;33m=\u001b[0m\u001b[1;36m1\u001b[0m    \u001b[1;31m#Amostras X e Amostras Y\u001b[0m\u001b[1;33m\u001b[0m\u001b[1;33m\u001b[0m\u001b[0m\n",
      "\u001b[1;31mValueError\u001b[0m: invalid literal for int() with base 10: ''"
     ]
    }
   ],
   "source": [
    "#Covariância\r\n",
    " #Índice referente ao espaço amostral associadas as variáveis X e Y.\r\n",
    "n=int(input(\"Insira o número total de amostras\"))    \r\n",
    "#Contador para percorrer os índices\r\n",
    "i=1    #Amostras X e Amostras Y\r\n",
    "Amostrax=[]\r\n",
    "Amostray=[]  \r\n",
    "Amostraxy=[]\r\n",
    "#Tamanho total da lista de cada variável\r\n",
    "for i in range(n):\r\n",
    "    #Adiciona o valor da amostra X dentro da lista de amostras\r\n",
    "    Amostrax.append(int(input(\"Insira o valor das amostras associadas a X\")))\r\n",
    "#Escreve a lista de amostras X na tela para o usuário\r\n",
    "print(\"Estas são as amostras da variável X:\", Amostrax)\r\n",
    "#Soma das variáveis para gerar as médias de X e Y\r\n",
    "Xi = 0\r\n",
    "Nx = len(Amostrax)   \r\n",
    "j=1\r\n",
    "for j in range(n):        \r\n",
    "    #Adiciona o valor da amostra X dentro da lista de amostras\r\n",
    "    Amostray.append(int(input(\"Insira o valor das amostras associadas a Y\")))\r\n",
    "#Escreve a lista de amostras X na tela para o usuário\r\n",
    "print(Amostray)\r\n",
    "Yi = 0\r\n",
    "Ny = len(Amostray)\r\n",
    "#Preenchendo as listas de amostras\r\n",
    "for amostraix in Amostrax:\r\n",
    "    Xi +=amostraix\r\n",
    "for amostraiy in Amostray:\r\n",
    "    Yi +=amostraiy\r\n",
    "Médiax=Xi/Nx\r\n",
    "Médiay=Yi/Ny\r\n",
    "for k in range(n):\r\n",
    "    Amostraxy.append(Amostrax[k]*Amostray[k])\r\n",
    "\r\n",
    "Nxy=len(Amostraxy)\r\n",
    "XiYi=0\r\n",
    "for amostraixy in Amostraxy:\r\n",
    "    XiYi +=amostraixy\r\n",
    "\r\n",
    "Médiaxy=XiYi/Nxy\r\n",
    "Covariância=Médiaxy-(Médiax * Médiay)\r\n",
    "\r\n",
    "print (\"Esse é o valor da soma das amostras X\", Xi)\r\n",
    "print (\"Esse é o valor da soma das amostras Y\", Yi)\r\n",
    "print (\"Este é o produto das amostras X e Y:\", Amostraxy)\r\n",
    "print (\"Este é a quantidade de amostras X que você possui\", Nx)\r\n",
    "print (\"Este é a quantidade de amostras Y que você possui\", Ny)\r\n",
    "print (\"Esta é a média da variável X\", Médiax)\r\n",
    "print (\"Esta é a média da variável Y\", Médiay)\r\n",
    "print (\"Esta é a média do produto X com Y:\", Médiaxy)\r\n",
    "print (\"Esta é a covariância:\", Covariância)"
   ]
  }
 ],
 "metadata": {
  "kernelspec": {
   "display_name": "Python 3.9.5 64-bit",
   "name": "python395jvsc74a57bd013432044932c1a20a6e449791fc9308ae5e6a49b8fc502f69107d2ec202b76d4"
  },
  "language_info": {
   "codemirror_mode": {
    "name": "ipython",
    "version": 3
   },
   "file_extension": ".py",
   "mimetype": "text/x-python",
   "name": "python",
   "nbconvert_exporter": "python",
   "pygments_lexer": "ipython3",
   "version": "3.9.5"
  },
  "metadata": {
   "interpreter": {
    "hash": "13432044932c1a20a6e449791fc9308ae5e6a49b8fc502f69107d2ec202b76d4"
   }
  },
  "orig_nbformat": 2
 },
 "nbformat": 4,
 "nbformat_minor": 2
}