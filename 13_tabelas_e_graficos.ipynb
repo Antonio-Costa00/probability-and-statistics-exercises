{
 "cells": [
  {
   "cell_type": "markdown",
   "metadata": {},
   "source": [
    "# <center><span style=\"color:red\">Exercícios de Probabilidade e Estatística</span><br/></center>\n",
    "# <center><span style=\"color:red\">13 – Tabelas e gráficos</span></center>"
   ]
  },
  {
   "cell_type": "markdown",
   "metadata": {},
   "source": [
    "# 1 – Considere a seguinte planilha de dados quanto às topologias de rede de computadores na resposta do tempo ao usuário: "
   ]
  },
  {
   "cell_type": "code",
   "execution_count": 7,
   "metadata": {},
   "outputs": [],
   "source": [
    "import pandas as pd\n",
    "import matplotlib.pyplot as plt\n",
    "import numpy as np"
   ]
  },
  {
   "cell_type": "code",
   "execution_count": null,
   "metadata": {},
   "outputs": [],
   "source": [
    "df = pd.read_excel('13 - Tabelas e gráficos estatísticos.xlsx', sheet_name = 'Table 4', index_col = 0) #sheet_name = 'Table 4' -> Nome da aba no excel; \n",
    "# index_col = 0 -> Por padrao, a funcao vem com uma coluna a mais. Index = 0 previne isso.\n",
    "df"
   ]
  },
  {
   "cell_type": "markdown",
   "metadata": {},
   "source": [
    "# Construa um gráfico de setores para topologia."
   ]
  },
  {
   "cell_type": "code",
   "execution_count": null,
   "metadata": {},
   "outputs": [],
   "source": [
    "df_topologia_sum = df.groupby(['Topologia']).sum()\n",
    "df_topologia_sum"
   ]
  },
  {
   "cell_type": "code",
   "execution_count": null,
   "metadata": {},
   "outputs": [
    {
     "data": {
      "image/png": "[encoded data removed]",
      "text/plain": [
       "<Figure size 432x288 with 1 Axes>"
      ]
     },
     "metadata": {},
     "output_type": "display_data"
    }
   ],
   "source": [
    "explosao = (0.1, 0.1, 0.1)\n",
    "nomes = ['C1', 'C2','C3']\n",
    "c = ['#003153', '#0000EF', '#3b5998']\n",
    "\n",
    "plt.pie(df_topologia_sum['Tempo de Resposta'], labels = nomes, autopct =\" %1.2f %% \",explode = explosao , shadow=True, startangle=90, colors= c)\n",
    "\n",
    "plt.show()"
   ]
  },
  {
   "cell_type": "markdown",
   "metadata": {},
   "source": [
    "# 2. Suponha que uma empresa esteja analisando o número de vendas de notebooks de duas marcas diferentes nos primeiros 4 meses do ano."
   ]
  },
  {
   "cell_type": "code",
   "execution_count": null,
   "metadata": {},
   "outputs": [
    {
     "data": {
      "text/html": [
       "<div>\n",
       "<style scoped>\n",
       "    .dataframe tbody tr th:only-of-type {\n",
       "        vertical-align: middle;\n",
       "    }\n",
       "\n",
       "    .dataframe tbody tr th {\n",
       "        vertical-align: top;\n",
       "    }\n",
       "\n",
       "    .dataframe thead th {\n",
       "        text-align: right;\n",
       "    }\n",
       "</style>\n",
       "<table border=\"1\" class=\"dataframe\">\n",
       "  <thead>\n",
       "    <tr style=\"text-align: right;\">\n",
       "      <th></th>\n",
       "      <th>Marca A</th>\n",
       "      <th>Marca B</th>\n",
       "    </tr>\n",
       "    <tr>\n",
       "      <th>Mês</th>\n",
       "      <th></th>\n",
       "      <th></th>\n",
       "    </tr>\n",
       "  </thead>\n",
       "  <tbody>\n",
       "    <tr>\n",
       "      <th>Janeiro</th>\n",
       "      <td>10</td>\n",
       "      <td>20</td>\n",
       "    </tr>\n",
       "    <tr>\n",
       "      <th>Fevereiro</th>\n",
       "      <td>16</td>\n",
       "      <td>30</td>\n",
       "    </tr>\n",
       "    <tr>\n",
       "      <th>Março</th>\n",
       "      <td>9</td>\n",
       "      <td>25</td>\n",
       "    </tr>\n",
       "    <tr>\n",
       "      <th>Abril</th>\n",
       "      <td>12</td>\n",
       "      <td>20</td>\n",
       "    </tr>\n",
       "  </tbody>\n",
       "</table>\n",
       "</div>"
      ],
      "text/plain": [
       "           Marca A  Marca B\n",
       "Mês                        \n",
       "Janeiro         10       20\n",
       "Fevereiro       16       30\n",
       "Março            9       25\n",
       "Abril           12       20"
      ]
     },
     "execution_count": 5,
     "metadata": {},
     "output_type": "execute_result"
    }
   ],
   "source": [
    "df02 = pd.read_excel('13 - Tabelas e gráficos estatísticos.xlsx', sheet_name = 'Table 7', index_col = 0)\n",
    "df02"
   ]
  },
  {
   "cell_type": "markdown",
   "metadata": {},
   "source": [
    "# Construa um gráfico de linhas para as duas marcas."
   ]
  },
  {
   "cell_type": "code",
   "execution_count": null,
   "metadata": {},
   "outputs": [
    {
     "data": {
      "image/png": "[encoded data removed]",
      "text/plain": [
       "<Figure size 864x576 with 1 Axes>"
      ]
     },
     "metadata": {
      "needs_background": "light"
     },
     "output_type": "display_data"
    }
   ],
   "source": [
    "barWidth = 0.25\n",
    "fig = plt.subplots(figsize =(12, 8))\n",
    " \n",
    "Marca_1 = df02['Marca A']\n",
    "Marca_2 = df02['Marca B']\n",
    " \n",
    "br1 = np.arange(len(Marca_1))\n",
    "br2 = [x + barWidth for x in br1]\n",
    " \n",
    "plt.bar(br1, Marca_1, color ='r', width = barWidth,\n",
    "        edgecolor ='grey', label ='Marca A')\n",
    "plt.bar(br2, Marca_2, color ='g', width = barWidth,\n",
    "        edgecolor ='grey', label ='Marca B')\n",
    " \n",
    "plt.xlabel('Mês', fontweight ='bold', fontsize = 15)\n",
    "plt.ylabel('Quantidade vendida', fontweight ='bold', fontsize = 15)\n",
    "plt.xticks([r + barWidth for r in range(len(Marca_1))], ['janeiro','Fevereiro','Março','Abril'])\n",
    "\n",
    "plt.legend()\n",
    "plt.show()"
   ]
  }
 ],
 "metadata": {
  "interpreter": {
   "hash": "e7370f93d1d0cde622a1f8e1c04877d8463912d04d973331ad4851f04de6915a"
  },
  "kernelspec": {
   "display_name": "Python 3.8.10 64-bit",
   "name": "python3"
  },
  "language_info": {
   "codemirror_mode": {
    "name": "ipython",
    "version": 3
   },
   "file_extension": ".py",
   "mimetype": "text/x-python",
   "name": "python",
   "nbconvert_exporter": "python",
   "pygments_lexer": "ipython3",
   "version": "3.8.10"
  },
  "metadata": {
   "interpreter": {
    "hash": "13432044932c1a20a6e449791fc9308ae5e6a49b8fc502f69107d2ec202b76d4"
   }
  },
  "orig_nbformat": 2
 },
 "nbformat": 4,
 "nbformat_minor": 2
}
