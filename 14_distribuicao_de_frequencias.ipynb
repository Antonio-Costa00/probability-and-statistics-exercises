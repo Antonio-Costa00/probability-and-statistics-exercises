{
 "cells": [
  {
   "cell_type": "markdown",
   "metadata": {},
   "source": [
    "# <center><span style=\"color:red\">Exercícios de Probabilidade e Estatística</span><br/></center>\n",
    "# <center><span style=\"color:red\">14 – Distribuição de frequências</span></center>"
   ]
  },
  {
   "cell_type": "markdown",
   "metadata": {},
   "source": [
    "# 1 – O departamento comercial de uma empresa pediu o levantamento das vendas diárias (em milhares de reais) durante os 25 dias do mês de novembro de 2020. Assim obteve os valores:"
   ]
  },
  {
   "cell_type": "markdown",
   "metadata": {},
   "source": [
    "# Pede-se:\n",
    "## 1. Montar o Rol"
   ]
  },
  {
   "cell_type": "code",
   "execution_count": 1,
   "metadata": {},
   "outputs": [],
   "source": [
    "import pandas as pd\n",
    "import matplotlib.pyplot as plt\n",
    "import numpy as np\n",
    "import math"
   ]
  },
  {
   "cell_type": "code",
   "execution_count": 2,
   "metadata": {},
   "outputs": [
    {
     "data": {
      "text/html": [
       "<div>\n",
       "<style scoped>\n",
       "    .dataframe tbody tr th:only-of-type {\n",
       "        vertical-align: middle;\n",
       "    }\n",
       "\n",
       "    .dataframe tbody tr th {\n",
       "        vertical-align: top;\n",
       "    }\n",
       "\n",
       "    .dataframe thead th {\n",
       "        text-align: right;\n",
       "    }\n",
       "</style>\n",
       "<table border=\"1\" class=\"dataframe\">\n",
       "  <thead>\n",
       "    <tr style=\"text-align: right;\">\n",
       "      <th></th>\n",
       "      <th>0</th>\n",
       "      <th>1</th>\n",
       "      <th>2</th>\n",
       "      <th>3</th>\n",
       "      <th>4</th>\n",
       "      <th>5</th>\n",
       "      <th>6</th>\n",
       "      <th>7</th>\n",
       "      <th>8</th>\n",
       "      <th>9</th>\n",
       "    </tr>\n",
       "  </thead>\n",
       "  <tbody>\n",
       "    <tr>\n",
       "      <th>0</th>\n",
       "      <td>280</td>\n",
       "      <td>305</td>\n",
       "      <td>320</td>\n",
       "      <td>330</td>\n",
       "      <td>310</td>\n",
       "      <td>340.0</td>\n",
       "      <td>330.0</td>\n",
       "      <td>341.0</td>\n",
       "      <td>369.0</td>\n",
       "      <td>355.0</td>\n",
       "    </tr>\n",
       "    <tr>\n",
       "      <th>1</th>\n",
       "      <td>360</td>\n",
       "      <td>370</td>\n",
       "      <td>365</td>\n",
       "      <td>280</td>\n",
       "      <td>375</td>\n",
       "      <td>380.0</td>\n",
       "      <td>400.0</td>\n",
       "      <td>371.0</td>\n",
       "      <td>390.0</td>\n",
       "      <td>400.0</td>\n",
       "    </tr>\n",
       "    <tr>\n",
       "      <th>2</th>\n",
       "      <td>370</td>\n",
       "      <td>401</td>\n",
       "      <td>420</td>\n",
       "      <td>430</td>\n",
       "      <td>375</td>\n",
       "      <td>NaN</td>\n",
       "      <td>NaN</td>\n",
       "      <td>NaN</td>\n",
       "      <td>NaN</td>\n",
       "      <td>NaN</td>\n",
       "    </tr>\n",
       "  </tbody>\n",
       "</table>\n",
       "</div>"
      ],
      "text/plain": [
       "     0    1    2    3    4      5      6      7      8      9\n",
       "0  280  305  320  330  310  340.0  330.0  341.0  369.0  355.0\n",
       "1  360  370  365  280  375  380.0  400.0  371.0  390.0  400.0\n",
       "2  370  401  420  430  375    NaN    NaN    NaN    NaN    NaN"
      ]
     },
     "execution_count": 2,
     "metadata": {},
     "output_type": "execute_result"
    }
   ],
   "source": [
    "df = pd.read_excel('14 - Distribuição de frequências.xlsx', sheet_name = 'Table 4', header = None)\n",
    "df.rename(columns=df.iloc[0]).drop(df.index[0])\n",
    "df"
   ]
  },
  {
   "cell_type": "code",
   "execution_count": 3,
   "metadata": {},
   "outputs": [
    {
     "data": {
      "text/plain": [
       "[[280.0, 305.0, 320.0, 330.0, 310.0, 340.0, 330.0, 341.0, 369.0, 355.0],\n",
       " [360.0, 370.0, 365.0, 280.0, 375.0, 380.0, 400.0, 371.0, 390.0, 400.0],\n",
       " [370.0, 401.0, 420.0, 430.0, 375.0, nan, nan, nan, nan, nan]]"
      ]
     },
     "execution_count": 3,
     "metadata": {},
     "output_type": "execute_result"
    }
   ],
   "source": [
    "lista = df.values.tolist()\n",
    "lista"
   ]
  },
  {
   "cell_type": "code",
   "execution_count": 4,
   "metadata": {},
   "outputs": [
    {
     "name": "stdout",
     "output_type": "stream",
     "text": [
      "O rol é dado por:\n",
      "\n",
      "[280.0, 280.0, 305.0, 310.0, 320.0, 330.0, 330.0, 340.0, 341.0, 355.0, 360.0, 365.0, 369.0, 370.0, 370.0, 371.0, 375.0, 375.0, 380.0, 390.0, 400.0, 400.0, 401.0, 420.0, 430.0, nan, nan, nan, nan, nan]\n"
     ]
    }
   ],
   "source": [
    "\n",
    "lista_juncao = []\n",
    "\n",
    "def reemovNestings(lista):\n",
    "    for i in lista:\n",
    "        if type(i) == list:\n",
    "            reemovNestings(i)\n",
    "        else:\n",
    "            lista_juncao.append(i) \n",
    "\n",
    "reemovNestings(lista)\n",
    "\n",
    "print(\"O rol é dado por:\\n\\n\" + str(sorted(lista_juncao)))"
   ]
  },
  {
   "cell_type": "markdown",
   "metadata": {},
   "source": [
    "## 2. Calcular amplitude total."
   ]
  },
  {
   "cell_type": "code",
   "execution_count": 5,
   "metadata": {},
   "outputs": [
    {
     "name": "stdout",
     "output_type": "stream",
     "text": [
      "O valor da amplitude total é igual a: 150\n"
     ]
    }
   ],
   "source": [
    "amp = max(lista_juncao) - min(lista_juncao)\n",
    "print(\"O valor da amplitude total é igual a: \" + str(int(amp)))"
   ]
  },
  {
   "cell_type": "markdown",
   "metadata": {},
   "source": [
    "## 3. Calcular o número de classes."
   ]
  },
  {
   "cell_type": "code",
   "execution_count": 6,
   "metadata": {},
   "outputs": [
    {
     "name": "stdout",
     "output_type": "stream",
     "text": [
      "O número de classes é igual a: 5\n"
     ]
    }
   ],
   "source": [
    "k = math.sqrt(len(lista_juncao))\n",
    "print(\"O número de classes é igual a: \" + str(int(k)))"
   ]
  },
  {
   "cell_type": "markdown",
   "metadata": {},
   "source": [
    "## 4. Calcular a amplitude do intervalo de cada classe."
   ]
  },
  {
   "cell_type": "code",
   "execution_count": 7,
   "metadata": {},
   "outputs": [
    {
     "name": "stdout",
     "output_type": "stream",
     "text": [
      "A amplitude do intervalo de cada classe é igual a: 28\n"
     ]
    }
   ],
   "source": [
    "h = amp/k \n",
    "h = math.ceil(h)\n",
    "print(\"A amplitude do intervalo de cada classe é igual a: \" + str(int(h)))"
   ]
  },
  {
   "cell_type": "markdown",
   "metadata": {},
   "source": [
    "## 5. Construir uma tabela com todos os tipos de frequências (simples, relativa, acumulada e acumulada relativa)"
   ]
  },
  {
   "cell_type": "code",
   "execution_count": 8,
   "metadata": {},
   "outputs": [
    {
     "name": "stdout",
     "output_type": "stream",
     "text": [
      "A tabela de frequencias é dada por: \n",
      "\n",
      "280.0 - 308.0    5\n",
      "364.0 - 392.0    5\n",
      "308.0 - 336.0    4\n",
      "336.0 - 364.0    4\n",
      "392.0 - 420.0    4\n",
      "420.0 - 448.0    3\n",
      "dtype: int64\n",
      "TOTAL            25\n"
     ]
    }
   ],
   "source": [
    "frequencias = []\n",
    "\n",
    "# Menor valor da série\n",
    "menor = round(min(lista_juncao),1)\n",
    "\n",
    "# Menor valor somado a amplitude\n",
    "menor_amp = round(menor+h,1)\n",
    "\n",
    "valor = menor\n",
    "while valor < max(lista_juncao):\n",
    "    frequencias.append('{} - {}'.format(round(valor,1),round(valor+h,1)))\n",
    "    valor += h\n",
    "freq_abs = pd.qcut(lista_juncao,len(frequencias),labels=frequencias) # Discretização dos valores em k faixas, rotuladas pela lista criada anteriormente\n",
    "print(\"A tabela de frequencias é dada por: \\n\\n\" + str(pd.value_counts(freq_abs)) + \"\\nTOTAL            \" + str(sum(pd.value_counts(freq_abs))))"
   ]
  }
 ],
 "metadata": {
  "kernelspec": {
   "display_name": "Python 3.9.5 64-bit",
   "name": "python395jvsc74a57bd013432044932c1a20a6e449791fc9308ae5e6a49b8fc502f69107d2ec202b76d4"
  },
  "language_info": {
   "codemirror_mode": {
    "name": "ipython",
    "version": 3
   },
   "file_extension": ".py",
   "mimetype": "text/x-python",
   "name": "python",
   "nbconvert_exporter": "python",
   "pygments_lexer": "ipython3",
   "version": "3.9.5"
  },
  "metadata": {
   "interpreter": {
    "hash": "13432044932c1a20a6e449791fc9308ae5e6a49b8fc502f69107d2ec202b76d4"
   }
  },
  "orig_nbformat": 2
 },
 "nbformat": 4,
 "nbformat_minor": 2
}
