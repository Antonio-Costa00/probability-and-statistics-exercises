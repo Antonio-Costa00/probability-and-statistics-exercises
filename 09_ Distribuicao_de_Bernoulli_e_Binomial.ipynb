{
 "cells": [
  {
   "cell_type": "markdown",
   "metadata": {},
   "source": [
    "# <center><span style=\"color:red\">Exercícios de Probabilidade e Estatística</span><br/></center>\n",
    "# <center><span style=\"color:red\"> 09 – Distribuição de Bernoulli e Binomial</span><br/></center>"
   ]
  },
  {
   "cell_type": "code",
   "execution_count": 2,
   "metadata": {},
   "outputs": [],
   "source": [
    "from scipy import stats\n",
    "from fractions import Fraction "
   ]
  },
  {
   "cell_type": "markdown",
   "metadata": {},
   "source": [
    "1 – Uma moeda é jogada 10 vezes. Calcular as seguintes probabilidades:"
   ]
  },
  {
   "cell_type": "markdown",
   "metadata": {},
   "source": [
    "a) de ocorrer 6 caras;"
   ]
  },
  {
   "cell_type": "code",
   "execution_count": 3,
   "metadata": {},
   "outputs": [
    {
     "name": "stdout",
     "output_type": "stream",
     "text": [
      "A probabilidae é igual é igual a 105/512\n"
     ]
    }
   ],
   "source": [
    "Num_caras = stats.binom.pmf(6, 10, 1/2)\n",
    "print(\"A probabilidae é igual é igual a \" + str(Fraction(Num_caras).limit_denominator()))"
   ]
  },
  {
   "cell_type": "markdown",
   "metadata": {},
   "source": [
    "b) de dar pelo menos 2 caras;\n",
    "\n",
    "P_2 + P_3 + P_4 + P_5 + P_6 + P_7 + P _8 + P_9 + P_10 = 1 - p_0 - P_1"
   ]
  },
  {
   "cell_type": "code",
   "execution_count": 4,
   "metadata": {},
   "outputs": [
    {
     "name": "stdout",
     "output_type": "stream",
     "text": [
      "A probabilidade de pelo o menos duas caras  é 0.989\n"
     ]
    }
   ],
   "source": [
    "p_0 = stats.binom.pmf(0, 10, 1/2)\n",
    "p_1 = stats.binom.pmf(1, 10, 1/2)\n",
    "print(\"A probabilidade de pelo o menos duas caras  é %.3f\" % (1 - p_0 - p_1))"
   ]
  },
  {
   "cell_type": "markdown",
   "metadata": {},
   "source": [
    "c) de não dar nenhuma coroa;"
   ]
  },
  {
   "cell_type": "code",
   "execution_count": 5,
   "metadata": {},
   "outputs": [
    {
     "name": "stdout",
     "output_type": "stream",
     "text": [
      "A probabilidade de nenhuma cara é 0.000977\n"
     ]
    }
   ],
   "source": [
    "nem_cara = stats.binom.pmf(10, 10, 1/2)\n",
    "print(\"A probabilidade de nenhuma cara é %.6f\" % nem_cara)"
   ]
  },
  {
   "cell_type": "markdown",
   "metadata": {},
   "source": [
    "d) de dar pelo menos uma coroa;"
   ]
  },
  {
   "cell_type": "code",
   "execution_count": 6,
   "metadata": {},
   "outputs": [
    {
     "name": "stdout",
     "output_type": "stream",
     "text": [
      "A probabilidade de nenhuma cara é 0.01\n"
     ]
    }
   ],
   "source": [
    "uma_coroa = stats.binom.pmf(1, 10, 1/2)\n",
    "print(\"A probabilidade de nenhuma cara é %.2f\" % uma_coroa)"
   ]
  },
  {
   "cell_type": "markdown",
   "metadata": {},
   "source": [
    "e) de não dar 5 caras e 5 coroas."
   ]
  },
  {
   "cell_type": "code",
   "execution_count": 7,
   "metadata": {},
   "outputs": [
    {
     "name": "stdout",
     "output_type": "stream",
     "text": [
      "A probabilidade de não dar 5 caras e 5 coroas é  0.754\n"
     ]
    }
   ],
   "source": [
    "nao_5caras_5coroas = stats.binom.pmf(5, 10, 1/2)\n",
    "print(\"A probabilidade de não dar 5 caras e 5 coroas é  %.3f\" % (1 - nao_5caras_5coroas))"
   ]
  },
  {
   "cell_type": "markdown",
   "metadata": {},
   "source": [
    "2 – Admitindo-se que os nascimentos de meninos e meninas sejam iguais calcular a probabilidade de\n",
    "um casal com 6 filhos ter 4 filhos homens e 2 mulheres. \n"
   ]
  },
  {
   "cell_type": "code",
   "execution_count": 8,
   "metadata": {},
   "outputs": [
    {
     "name": "stdout",
     "output_type": "stream",
     "text": [
      "A probabilidade é 0.2344\n"
     ]
    }
   ],
   "source": [
    "num_filhos = stats.binom.pmf(4, 6, 1/2)\n",
    "print(\"A probabilidade é %.4f\" % num_filhos)"
   ]
  }
 ],
 "metadata": {
  "interpreter": {
   "hash": "e7370f93d1d0cde622a1f8e1c04877d8463912d04d973331ad4851f04de6915a"
  },
  "kernelspec": {
   "display_name": "Python 3.8.10 64-bit",
   "name": "python3"
  },
  "language_info": {
   "codemirror_mode": {
    "name": "ipython",
    "version": 3
   },
   "file_extension": ".py",
   "mimetype": "text/x-python",
   "name": "python",
   "nbconvert_exporter": "python",
   "pygments_lexer": "ipython3",
   "version": "3.8.10"
  },
  "metadata": {
   "interpreter": {
    "hash": "13432044932c1a20a6e449791fc9308ae5e6a49b8fc502f69107d2ec202b76d4"
   }
  },
  "orig_nbformat": 2
 },
 "nbformat": 4,
 "nbformat_minor": 2
}
